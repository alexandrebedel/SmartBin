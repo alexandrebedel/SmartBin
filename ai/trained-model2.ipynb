{
 "cells": [
  {
   "cell_type": "code",
   "execution_count": 1,
   "id": "initial_id",
   "metadata": {
    "ExecuteTime": {
     "end_time": "2024-01-04T11:35:04.920575Z",
     "start_time": "2024-01-04T11:35:01.927412Z"
    },
    "collapsed": true
   },
   "outputs": [
    {
     "name": "stderr",
     "output_type": "stream",
     "text": [
      "/Users/alix/PycharmProjects/T-ESP-900-esp902-56264-ESP-DJ-4/.venv/lib/python3.9/site-packages/urllib3/__init__.py:34: NotOpenSSLWarning: urllib3 v2 only supports OpenSSL 1.1.1+, currently the 'ssl' module is compiled with 'LibreSSL 2.8.3'. See: https://github.com/urllib3/urllib3/issues/3020\n",
      "  warnings.warn(\n"
     ]
    }
   ],
   "source": [
    "# Import des bibliothèques nécessaires\n",
    "import os\n",
    "import random\n",
    "import numpy as np\n",
    "import matplotlib.pyplot as plt\n",
    "from tensorflow.keras.preprocessing.image import ImageDataGenerator\n",
    "from tensorflow.keras.models import Sequential\n",
    "from tensorflow.keras.layers import Conv2D, MaxPooling2D, Flatten, Dense"
   ]
  },
  {
   "cell_type": "code",
   "execution_count": 2,
   "id": "7df2d11556ae6837",
   "metadata": {
    "ExecuteTime": {
     "end_time": "2024-01-04T11:35:09.767415Z",
     "start_time": "2024-01-04T11:35:09.763349Z"
    },
    "collapsed": false
   },
   "outputs": [],
   "source": [
    "# Définir le chemin du dossier contenant le dataset\n",
    "dataset_path = './dataset'"
   ]
  },
  {
   "cell_type": "code",
   "execution_count": 3,
   "id": "514f6da645cbd6f8",
   "metadata": {
    "ExecuteTime": {
     "end_time": "2024-01-04T11:35:12.858471Z",
     "start_time": "2024-01-04T11:35:12.853697Z"
    },
    "collapsed": false
   },
   "outputs": [],
   "source": [
    "# Définir les dimensions des images d'entrée\n",
    "img_width, img_height = 512, 384"
   ]
  },
  {
   "cell_type": "code",
   "execution_count": 4,
   "id": "705cfb2821e524a3",
   "metadata": {
    "ExecuteTime": {
     "end_time": "2024-01-04T11:35:15.078776Z",
     "start_time": "2024-01-04T11:35:15.075135Z"
    },
    "collapsed": false
   },
   "outputs": [],
   "source": [
    "# Définir les paramètres du modèle\n",
    "epochs = 20\n",
    "batch_size = 32"
   ]
  },
  {
   "cell_type": "code",
   "execution_count": 5,
   "id": "63ebe3fa0341625b",
   "metadata": {
    "ExecuteTime": {
     "end_time": "2024-01-04T11:35:17.163004Z",
     "start_time": "2024-01-04T11:35:17.157522Z"
    },
    "collapsed": false
   },
   "outputs": [],
   "source": [
    "# Créer un générateur d'images à partir du dossier dataset\n",
    "datagen = ImageDataGenerator(rescale=1./255, validation_split=0.2)"
   ]
  },
  {
   "cell_type": "code",
   "execution_count": 6,
   "id": "a923a6c8a924a6d8",
   "metadata": {
    "ExecuteTime": {
     "end_time": "2024-01-04T11:35:19.753789Z",
     "start_time": "2024-01-04T11:35:19.655478Z"
    },
    "collapsed": false
   },
   "outputs": [
    {
     "name": "stdout",
     "output_type": "stream",
     "text": [
      "Found 2024 images belonging to 6 classes.\n",
      "Found 503 images belonging to 6 classes.\n"
     ]
    }
   ],
   "source": [
    "# Créer des générateurs pour les ensembles d'entraînement et de validation\n",
    "train_generator = datagen.flow_from_directory(\n",
    "    dataset_path,\n",
    "    target_size=(img_width, img_height),\n",
    "    batch_size=batch_size,\n",
    "    class_mode='categorical',\n",
    "    subset='training'\n",
    ")\n",
    "\n",
    "validation_generator = datagen.flow_from_directory(\n",
    "    dataset_path,\n",
    "    target_size=(img_width, img_height),\n",
    "    batch_size=batch_size,\n",
    "    class_mode='categorical',\n",
    "    subset='validation'\n",
    ")\n"
   ]
  },
  {
   "cell_type": "code",
   "execution_count": 7,
   "id": "dbd827e182256fde",
   "metadata": {
    "ExecuteTime": {
     "end_time": "2024-01-04T11:35:34.315850Z",
     "start_time": "2024-01-04T11:35:33.906524Z"
    },
    "collapsed": false
   },
   "outputs": [],
   "source": [
    "# Créer le modèle CNN\n",
    "model = Sequential()\n",
    "model.add(Conv2D(32, (3, 3), input_shape=(img_width, img_height, 3), activation='relu'))\n",
    "model.add(MaxPooling2D(pool_size=(2, 2)))\n",
    "model.add(Conv2D(64, (3, 3), activation='relu'))\n",
    "model.add(MaxPooling2D(pool_size=(2, 2)))\n",
    "model.add(Conv2D(128, (3, 3), activation='relu'))\n",
    "model.add(MaxPooling2D(pool_size=(2, 2)))\n",
    "model.add(Flatten())\n",
    "model.add(Dense(256, activation='relu'))\n",
    "model.add(Dense(6, activation='softmax'))  # 6 classes (cardboard, glass, metal, paper, plastic, trash)"
   ]
  },
  {
   "cell_type": "code",
   "execution_count": 8,
   "id": "7b601f1cbb6346a9",
   "metadata": {
    "ExecuteTime": {
     "end_time": "2024-01-04T11:35:37.243566Z",
     "start_time": "2024-01-04T11:35:37.236697Z"
    },
    "collapsed": false
   },
   "outputs": [],
   "source": [
    "# Compiler le modèle\n",
    "model.compile(loss='categorical_crossentropy', optimizer='adam', metrics=['accuracy'])"
   ]
  },
  {
   "cell_type": "code",
   "execution_count": 9,
   "id": "552f407ab2e19af9",
   "metadata": {
    "ExecuteTime": {
     "end_time": "2024-01-04T12:09:34.258056Z",
     "start_time": "2024-01-04T11:35:39.750706Z"
    },
    "collapsed": false
   },
   "outputs": [
    {
     "name": "stdout",
     "output_type": "stream",
     "text": [
      "Epoch 1/20\n",
      "63/63 [==============================] - 122s 2s/step - loss: 2.8392 - accuracy: 0.3218 - val_loss: 1.5832 - val_accuracy: 0.3438\n",
      "Epoch 2/20\n",
      "63/63 [==============================] - 119s 2s/step - loss: 1.3934 - accuracy: 0.4533 - val_loss: 1.4527 - val_accuracy: 0.4021\n",
      "Epoch 3/20\n",
      "63/63 [==============================] - 100s 2s/step - loss: 1.1773 - accuracy: 0.5557 - val_loss: 1.3485 - val_accuracy: 0.4854\n",
      "Epoch 4/20\n",
      "63/63 [==============================] - 87s 1s/step - loss: 0.8869 - accuracy: 0.6767 - val_loss: 1.4883 - val_accuracy: 0.4812\n",
      "Epoch 5/20\n",
      "63/63 [==============================] - 87s 1s/step - loss: 0.5906 - accuracy: 0.7866 - val_loss: 1.5056 - val_accuracy: 0.4917\n",
      "Epoch 6/20\n",
      "63/63 [==============================] - 90s 1s/step - loss: 0.3709 - accuracy: 0.8820 - val_loss: 1.9029 - val_accuracy: 0.5042\n",
      "Epoch 7/20\n",
      "63/63 [==============================] - 101s 2s/step - loss: 0.2323 - accuracy: 0.9267 - val_loss: 2.2113 - val_accuracy: 0.5125\n",
      "Epoch 8/20\n",
      "63/63 [==============================] - 106s 2s/step - loss: 0.1587 - accuracy: 0.9563 - val_loss: 2.2169 - val_accuracy: 0.4958\n",
      "Epoch 9/20\n",
      "63/63 [==============================] - 118s 2s/step - loss: 0.1183 - accuracy: 0.9639 - val_loss: 2.5211 - val_accuracy: 0.4833\n",
      "Epoch 10/20\n",
      "63/63 [==============================] - 106s 2s/step - loss: 0.1163 - accuracy: 0.9694 - val_loss: 2.4054 - val_accuracy: 0.4458\n",
      "Epoch 11/20\n",
      "63/63 [==============================] - 102s 2s/step - loss: 0.1108 - accuracy: 0.9654 - val_loss: 2.6547 - val_accuracy: 0.5167\n",
      "Epoch 12/20\n",
      "63/63 [==============================] - 101s 2s/step - loss: 0.0843 - accuracy: 0.9734 - val_loss: 3.0970 - val_accuracy: 0.4417\n",
      "Epoch 13/20\n",
      "63/63 [==============================] - 100s 2s/step - loss: 0.0799 - accuracy: 0.9784 - val_loss: 3.3424 - val_accuracy: 0.4500\n",
      "Epoch 14/20\n",
      "63/63 [==============================] - 100s 2s/step - loss: 0.0719 - accuracy: 0.9834 - val_loss: 3.7051 - val_accuracy: 0.4688\n",
      "Epoch 15/20\n",
      "63/63 [==============================] - 96s 2s/step - loss: 0.0478 - accuracy: 0.9849 - val_loss: 3.2625 - val_accuracy: 0.4458\n",
      "Epoch 16/20\n",
      "63/63 [==============================] - 97s 2s/step - loss: 0.0200 - accuracy: 0.9950 - val_loss: 3.8258 - val_accuracy: 0.4875\n",
      "Epoch 17/20\n",
      "63/63 [==============================] - 95s 2s/step - loss: 0.0242 - accuracy: 0.9960 - val_loss: 4.4002 - val_accuracy: 0.4667\n",
      "Epoch 18/20\n",
      "63/63 [==============================] - 108s 2s/step - loss: 0.0631 - accuracy: 0.9814 - val_loss: 4.1172 - val_accuracy: 0.4833\n",
      "Epoch 19/20\n",
      "63/63 [==============================] - 101s 2s/step - loss: 0.0362 - accuracy: 0.9900 - val_loss: 3.9931 - val_accuracy: 0.4792\n",
      "Epoch 20/20\n",
      "63/63 [==============================] - 97s 2s/step - loss: 0.1013 - accuracy: 0.9689 - val_loss: 4.7586 - val_accuracy: 0.4667\n"
     ]
    }
   ],
   "source": [
    "# Entraîner le modèle\n",
    "history = model.fit(\n",
    "    train_generator,\n",
    "    steps_per_epoch=train_generator.samples // batch_size,\n",
    "    epochs=epochs,\n",
    "    validation_data=validation_generator,\n",
    "    validation_steps=validation_generator.samples // batch_size\n",
    ")"
   ]
  },
  {
   "cell_type": "code",
   "execution_count": 11,
   "id": "eb9b25612b42c4b7",
   "metadata": {
    "ExecuteTime": {
     "end_time": "2024-01-04T12:11:01.797314Z",
     "start_time": "2024-01-04T12:11:01.537180Z"
    },
    "collapsed": false
   },
   "outputs": [],
   "source": [
    "# Sauvegarder le modèle\n",
    "model.save('trash_detection_model.keras')"
   ]
  },
  {
   "cell_type": "code",
   "execution_count": 12,
   "id": "196076f0e2a8c34f",
   "metadata": {
    "ExecuteTime": {
     "end_time": "2024-01-04T12:11:07.225583Z",
     "start_time": "2024-01-04T12:11:07.057197Z"
    },
    "collapsed": false
   },
   "outputs": [
    {
     "data": {
      "image/png": "[encoded data removed]",
      "text/plain": [
       "<Figure size 640x480 with 1 Axes>"
      ]
     },
     "metadata": {},
     "output_type": "display_data"
    }
   ],
   "source": [
    "# Afficher les courbes d'entraînement\n",
    "plt.plot(history.history['accuracy'], label='train_accuracy')\n",
    "plt.plot(history.history['val_accuracy'], label='val_accuracy')\n",
    "plt.title('Model Accuracy')\n",
    "plt.xlabel('Epochs')\n",
    "plt.ylabel('Accuracy')\n",
    "plt.legend()\n",
    "plt.show()"
   ]
  },
  {
   "cell_type": "code",
   "execution_count": 2,
   "id": "15ffcdc063a3e2b9",
   "metadata": {
    "ExecuteTime": {
     "end_time": "2024-01-12T14:38:11.609764Z",
     "start_time": "2024-01-12T14:38:09.705310Z"
    },
    "collapsed": false
   },
   "outputs": [
    {
     "ename": "FileNotFoundError",
     "evalue": "[Errno 2] No such file or directory: './Random/metal.jpeg'",
     "output_type": "error",
     "traceback": [
      "\u001b[0;31m---------------------------------------------------------------------------\u001b[0m",
      "\u001b[0;31mFileNotFoundError\u001b[0m                         Traceback (most recent call last)",
      "Cell \u001b[0;32mIn[2], line 21\u001b[0m\n\u001b[1;32m     18\u001b[0m img_path \u001b[38;5;241m=\u001b[39m \u001b[38;5;124m\"\u001b[39m\u001b[38;5;124m./Random/metal.jpeg\u001b[39m\u001b[38;5;124m\"\u001b[39m\n\u001b[1;32m     20\u001b[0m \u001b[38;5;66;03m# img = mpimg.imread(getRandomPath())\u001b[39;00m\n\u001b[0;32m---> 21\u001b[0m img \u001b[38;5;241m=\u001b[39m \u001b[43mmpimg\u001b[49m\u001b[38;5;241;43m.\u001b[39;49m\u001b[43mimread\u001b[49m\u001b[43m(\u001b[49m\u001b[43mimg_path\u001b[49m\u001b[43m)\u001b[49m\n\u001b[1;32m     22\u001b[0m plt\u001b[38;5;241m.\u001b[39msubplot(\u001b[38;5;241m1\u001b[39m, \u001b[38;5;241m1\u001b[39m, \u001b[38;5;241m1\u001b[39m)\n\u001b[1;32m     23\u001b[0m plt\u001b[38;5;241m.\u001b[39mimshow(img)\n",
      "File \u001b[0;32m/opt/homebrew/lib/python3.11/site-packages/matplotlib/image.py:1525\u001b[0m, in \u001b[0;36mimread\u001b[0;34m(fname, format)\u001b[0m\n\u001b[1;32m   1518\u001b[0m \u001b[38;5;28;01mif\u001b[39;00m \u001b[38;5;28misinstance\u001b[39m(fname, \u001b[38;5;28mstr\u001b[39m) \u001b[38;5;129;01mand\u001b[39;00m \u001b[38;5;28mlen\u001b[39m(parse\u001b[38;5;241m.\u001b[39murlparse(fname)\u001b[38;5;241m.\u001b[39mscheme) \u001b[38;5;241m>\u001b[39m \u001b[38;5;241m1\u001b[39m:\n\u001b[1;32m   1519\u001b[0m     \u001b[38;5;66;03m# Pillow doesn't handle URLs directly.\u001b[39;00m\n\u001b[1;32m   1520\u001b[0m     \u001b[38;5;28;01mraise\u001b[39;00m \u001b[38;5;167;01mValueError\u001b[39;00m(\n\u001b[1;32m   1521\u001b[0m         \u001b[38;5;124m\"\u001b[39m\u001b[38;5;124mPlease open the URL for reading and pass the \u001b[39m\u001b[38;5;124m\"\u001b[39m\n\u001b[1;32m   1522\u001b[0m         \u001b[38;5;124m\"\u001b[39m\u001b[38;5;124mresult to Pillow, e.g. with \u001b[39m\u001b[38;5;124m\"\u001b[39m\n\u001b[1;32m   1523\u001b[0m         \u001b[38;5;124m\"\u001b[39m\u001b[38;5;124m``np.array(PIL.Image.open(urllib.request.urlopen(url)))``.\u001b[39m\u001b[38;5;124m\"\u001b[39m\n\u001b[1;32m   1524\u001b[0m         )\n\u001b[0;32m-> 1525\u001b[0m \u001b[38;5;28;01mwith\u001b[39;00m \u001b[43mimg_open\u001b[49m\u001b[43m(\u001b[49m\u001b[43mfname\u001b[49m\u001b[43m)\u001b[49m \u001b[38;5;28;01mas\u001b[39;00m image:\n\u001b[1;32m   1526\u001b[0m     \u001b[38;5;28;01mreturn\u001b[39;00m (_pil_png_to_float_array(image)\n\u001b[1;32m   1527\u001b[0m             \u001b[38;5;28;01mif\u001b[39;00m \u001b[38;5;28misinstance\u001b[39m(image, PIL\u001b[38;5;241m.\u001b[39mPngImagePlugin\u001b[38;5;241m.\u001b[39mPngImageFile) \u001b[38;5;28;01melse\u001b[39;00m\n\u001b[1;32m   1528\u001b[0m             pil_to_array(image))\n",
      "File \u001b[0;32m/opt/homebrew/lib/python3.11/site-packages/PIL/Image.py:3247\u001b[0m, in \u001b[0;36mopen\u001b[0;34m(fp, mode, formats)\u001b[0m\n\u001b[1;32m   3244\u001b[0m     filename \u001b[38;5;241m=\u001b[39m fp\n\u001b[1;32m   3246\u001b[0m \u001b[38;5;28;01mif\u001b[39;00m filename:\n\u001b[0;32m-> 3247\u001b[0m     fp \u001b[38;5;241m=\u001b[39m \u001b[43mbuiltins\u001b[49m\u001b[38;5;241;43m.\u001b[39;49m\u001b[43mopen\u001b[49m\u001b[43m(\u001b[49m\u001b[43mfilename\u001b[49m\u001b[43m,\u001b[49m\u001b[43m \u001b[49m\u001b[38;5;124;43m\"\u001b[39;49m\u001b[38;5;124;43mrb\u001b[39;49m\u001b[38;5;124;43m\"\u001b[39;49m\u001b[43m)\u001b[49m\n\u001b[1;32m   3248\u001b[0m     exclusive_fp \u001b[38;5;241m=\u001b[39m \u001b[38;5;28;01mTrue\u001b[39;00m\n\u001b[1;32m   3250\u001b[0m \u001b[38;5;28;01mtry\u001b[39;00m:\n",
      "\u001b[0;31mFileNotFoundError\u001b[0m: [Errno 2] No such file or directory: './Random/metal.jpeg'"
     ]
    }
   ],
   "source": [
    "from tensorflow.keras.preprocessing import image\n",
    "from tensorflow.keras.models import load_model\n",
    "import numpy as np\n",
    "import matplotlib.image as mpimg\n",
    "import os\n",
    "import random\n",
    "import matplotlib.pyplot as plt\n",
    "\n",
    "# Charger le modèle pré-entraîné\n",
    "model = load_model('trash_detection_model.keras')\n",
    "\n",
    "path = \"./Random\"\n",
    "\n",
    "def getRandomPath():\n",
    "    return os.path.join(path, random.choice(os.listdir(path)))\n",
    "\n",
    "# img_path = getRandomPath() \n",
    "img_path = \"./Random/metal.jpeg\"\n",
    "\n",
    "# img = mpimg.imread(getRandomPath())\n",
    "img = mpimg.imread(img_path)\n",
    "plt.subplot(1, 1, 1)\n",
    "plt.imshow(img)\n",
    "\n",
    "plt.setp(plt.gcf().get_axes(), xticks=[], yticks=[]);\n",
    "plt.tight_layout()\n",
    "plt.show()\n",
    "\n",
    "# Chargement de l'image de test\n",
    "img = image.load_img(img_path, target_size=(512, 384))\n",
    "img_array = image.img_to_array(img)\n",
    "img_array = np.expand_dims(img_array, axis=0)\n",
    "img_array /= 255.0  # Normalisation des pixels\n",
    "\n",
    "# Prédiction de la classe\n",
    "prediction = model.predict(img_array)\n",
    "\n",
    "# Affichage des résultats\n",
    "class_labels = ['cardboard', 'glass', 'metal', 'paper', 'plastic', 'trash']\n",
    "predicted_class = class_labels[np.argmax(prediction)]\n",
    "\n",
    "print(f\"Classe prédite : {predicted_class}\")\n"
   ]
  }
 ],
 "metadata": {
  "kernelspec": {
   "display_name": "Python 3",
   "language": "python",
   "name": "python3"
  },
  "language_info": {
   "codemirror_mode": {
    "name": "ipython",
    "version": 3
   },
   "file_extension": ".py",
   "mimetype": "text/x-python",
   "name": "python",
   "nbconvert_exporter": "python",
   "pygments_lexer": "ipython3",
   "version": "3.11.5"
  }
 },
 "nbformat": 4,
 "nbformat_minor": 5
}
